{
 "cells": [
  {
   "cell_type": "markdown",
   "metadata": {},
   "source": [
    "# Composition\n",
    "\n",
    "A deep neural network is simply a composition of (parametrized) processing nodes. Composing two nodes $g$ and $f$ gives yet another node $h = f \\cdot g$, or $h(x) = f(g(x))$. We can also evaluate two nodes in parallel and express the result as the concatenation of the two outputs, $h(x) = (f(x), g(x))$. As such we can also view a deep nerual network as a single processing node where we have collected all the inputs together (into a single input) and collected all the outputs together (into a single output). This is how deep learning frameworks, such as PyTorch, process data through neural networks.\n",
    "\n",
    "This tutorial explores the idea of composition using the `ddn.basic` package. Each processing node in the package is assumed to take a single (vector) input and produce a single (vector) output as presented in the [\"Deep Declarative Networks: A New Hope\"](https://arxiv.org/abs/1909.04866) paper, so we have to merge and split vectors as we process data through the network.\n"
   ]
  },
  {
   "cell_type": "code",
   "execution_count": 1,
   "metadata": {},
   "outputs": [],
   "source": [
    "%matplotlib inline"
   ]
  },
  {
   "cell_type": "markdown",
   "metadata": {},
   "source": [
    "## Example: Matching means\n",
    "\n",
    "We will develop an example of modifying two vector inputs so that their means match. Our network first computes the mean of each vector, then computes their square difference. Back-propagating to reduce the square difference will modify the vectors such that their means are equal. The network can be visualized as\n",
    "\n",
    "```\n",
    "                           .------.\n",
    "       .------.            |      |\n",
    "x_1 ---| mean |--- mu_1 ---|      |\n",
    "       '------'            |      |                     .---------.\n",
    "                           | diff |--- (mu_1 - mu_2) ---| 1/2 sqr |--- y \n",
    "       .------.            |      |                     '---------'\n",
    "x_2 ---| mean |--- mu_2 ---|      |\n",
    "       '------'            |      |\n",
    "                           '------'\n",
    "```\n",
    "\n",
    "Viewing the network as a single node we have\n",
    "\n",
    "```\n",
    "     .-------------------------------------------------------------------------.\n",
    "     |                              .------.                                   |\n",
    "     |          .------.            |      |                                   |\n",
    "     |   x_1 ---| mean |--- mu_1 ---|      |                                   |\n",
    "     |  /       '------'            |      |                     .---------.   |\n",
    "x ---|-<                            | diff |--- (mu_1 - mu_2) ---| 1/2 sqr |---|--- y \n",
    "     |  \\       .------.            |      |                     '---------'   |\n",
    "     |   x_2 ---| mean |--- mu_2 ---|      |                                   |\n",
    "     |          '------'            |      |                                   |\n",
    "     |                              '------'                                   |\n",
    "     .-------------------------------------------------------------------------'\n",
    "```\n",
    "\n",
    "Note here each of $x_1$ and $x_2$ is an $n$-dimensional vector. So $x = (x_1, x_2) \\in \\mathbb{R}^{2n}$.\n",
    "\n",
    "We now develop the code for this example, starting with the upper and lower branches of the network."
   ]
  },
  {
   "cell_type": "code",
   "execution_count": 2,
   "metadata": {},
   "outputs": [],
   "source": [
    "import sys\n",
    "sys.path.append(\"../\")\n",
    "from ddn.basic.node import *\n",
    "from ddn.basic.sample_nodes import *\n",
    "from ddn.basic.robust_nodes import *\n",
    "from ddn.basic.composition import *\n",
    "\n",
    "# construct n-dimensional vector inputs\n",
    "n = 10\n",
    "x_1 = np.random.randn(n, 1)\n",
    "x_2 = np.random.randn(n, 1)\n",
    "\n",
    "x = np.vstack((x_1, x_2))\n",
    "\n",
    "# create upper and lower branches\n",
    "upperBranch = ComposedNode(SelectNode(2*n, 0, n-1), RobustAverage(n, 'quadratic'))\n",
    "lowerBranch = ComposedNode(SelectNode(2*n, n), RobustAverage(n, 'quadratic'))"
   ]
  },
  {
   "cell_type": "markdown",
   "metadata": {},
   "source": [
    "Here we construct each branch by composing a `SelectNode`, which chooses the appropriate subvector $x_1$ or $x_2$ for the branch, with a `RobustAverage` node, which computes the mean. To make sure things are working so far we evaluate the upper and lower branches, each now expressed as a single composed processing node, and compare their outputs to the mean of $x_1$ and $x_2$, respectively."
   ]
  },
  {
   "cell_type": "code",
   "execution_count": 3,
   "metadata": {},
   "outputs": [
    {
     "name": "stdout",
     "output_type": "stream",
     "text": [
      "upper branch: [0.35571504] vs 0.3557150433275785\n",
      "lower branch: [-0.2411335] vs -0.2411335017597908\n"
     ]
    }
   ],
   "source": [
    "mu_1, _ = upperBranch.solve(x)\n",
    "mu_2, _ = lowerBranch.solve(x)\n",
    "\n",
    "print(\"upper branch: {} vs {}\".format(mu_1, np.mean(x_1)))\n",
    "print(\"lower branch: {} vs {}\".format(mu_2, np.mean(x_2)))"
   ]
  },
  {
   "cell_type": "markdown",
   "metadata": {},
   "source": [
    "Continuing the example, we now run the upper and lower branches in parallel (to produce $(\\mu_1, \\mu_2) \\in \\mathbb{R}^2$) and write a node to take the difference between the two elements of the resulting vector."
   ]
  },
  {
   "cell_type": "code",
   "execution_count": 4,
   "metadata": {},
   "outputs": [
    {
     "name": "stdout",
     "output_type": "stream",
     "text": [
      "0.17811409288645474\n"
     ]
    }
   ],
   "source": [
    "# combine the upper and lower branches\n",
    "meansNode = ParallelNode(upperBranch, lowerBranch)\n",
    "\n",
    "# node for computing mu_1 - mu_2\n",
    "class DiffNode(AbstractNode):\n",
    "    \"\"\"Computes the difference between elements in a 2-dimensional vector.\"\"\"\n",
    "    def __init__(self):\n",
    "        super().__init__(2, 1)\n",
    "    \n",
    "    def solve(self, x):\n",
    "        assert len(x) == 2\n",
    "        return x[0] - x[1], None\n",
    "    \n",
    "    def gradient(self, x, y=None, ctx=None):\n",
    "        return np.array([1.0, -1.0])\n",
    "\n",
    "# now put everything together into a network (super declarative node)\n",
    "network = ComposedNode(ComposedNode(meansNode, DiffNode()), SquaredErrorNode(1))\n",
    "\n",
    "# print the initial (half) squared difference between the means\n",
    "y, _ = network.solve(x)\n",
    "print(y)"
   ]
  },
  {
   "cell_type": "markdown",
   "metadata": {},
   "source": [
    "Now let's optimize $x_1$ and $x_2$ so as to make their means equal."
   ]
  },
  {
   "cell_type": "code",
   "execution_count": 5,
   "metadata": {},
   "outputs": [
    {
     "data": {
      "image/png": "[encoded data removed]",
      "text/plain": [
       "<Figure size 432x288 with 1 Axes>"
      ]
     },
     "metadata": {
      "needs_background": "light"
     },
     "output_type": "display_data"
    },
    {
     "name": "stdout",
     "output_type": "stream",
     "text": [
      "[-0.49003529  1.17948598 -1.68702866 -1.01239936  0.79146087  0.24130503\n",
      "  0.8052778   0.85165613 -0.98573295  0.87891815]\n",
      "[ 0.95865934  0.99724414  0.29330379  0.52575762  1.68137593 -0.26575842\n",
      " -3.43279949  0.16564688 -1.3222635   0.97174142]\n",
      "0.05729077078389375\n",
      "0.057290770783893816\n"
     ]
    }
   ],
   "source": [
    "import scipy.optimize as opt\n",
    "import matplotlib.pyplot as plt\n",
    "\n",
    "x_init = x.copy()\n",
    "y_init, _ = network.solve(x_init)\n",
    "history = [y_init]\n",
    "result = opt.minimize(lambda xk: network.solve(xk)[0], x_init, args=(), method='L-BFGS-B', jac=lambda xk: network.gradient(xk),\n",
    "                      options={'maxiter': 1000, 'disp': False},\n",
    "                      callback=lambda xk: history.append(network.solve(xk)[0]))\n",
    "\n",
    "# plot results\n",
    "plt.figure()\n",
    "plt.semilogy(history, lw=2)\n",
    "plt.xlabel(\"iter.\"); plt.ylabel(\"error\")\n",
    "plt.title(\"Example: Matching means\")\n",
    "plt.show()\n",
    "\n",
    "# print final vectors and their means\n",
    "x_final = result.x\n",
    "print(x_final[0:n])\n",
    "print(x_final[n:])\n",
    "print(np.mean(x_final[0:n]))\n",
    "print(np.mean(x_final[n:]))"
   ]
  },
  {
   "cell_type": "markdown",
   "metadata": {},
   "source": [
    "## Mathematics\n",
    "\n",
    "To understand composition mathematically, consider the following network,\n",
    "\n",
    "```\n",
    "          .---.\n",
    "      .---| f |---.\n",
    "     /    '---'    \\   .---.\n",
    "x --<               >--| h |--- y\n",
    "     \\    .---.    /   '---'\n",
    "      '---| g |---'\n",
    "          '---'\n",
    "```\n",
    "\n",
    "We can write the function as $y = h(f(x), g(x))$. Let's assume that $x$ is an $n$-dimensional vector, $f : \\mathbb{R}^n \\to \\mathbb{R}^p$, $g : \\mathbb{R}^m \\to \\mathbb{R}^q$, and $h : \\mathbb{R}^{p+q} \\to \\mathbb{R}^m$. This implies that the output, $y$, is an $m$-dimensional vector.\n",
    "\n",
    "We can write the derivative as\n",
    "$$\n",
    "\\begin{align}\n",
    "\\text{D}y(x) &= \\text{D}_{F}h(f, g) \\text{D}f(x) + \\text{D}_{G}h(f, g) \\text{D}g(x) \\\\\n",
    "&= \\begin{bmatrix} \\text{D}_F h & \\text{D}_G h \\end{bmatrix} \\begin{bmatrix} \\text{D}f \\\\ \\text{D}g \\end{bmatrix}\n",
    "\\end{align}\n",
    "$$\n",
    "where the first matrix on the right-hand-side has size $m \\times (p + q)$ and the second matrix has size $(p + q) \\times n$, giving an $m \\times n$ matrix for $\\text{D}y(x)$ as expected. Moreover, we can treat the parallel branch as a single node in the graph computing $(f(x), g(x)) \\in \\mathbb{R}^{p+q}$.\n",
    "\n",
    "Note that none of this is specific to deep declarative nodes---it is a simple consequence of the rules of differentiation and applies to both declarative and imperative nodes. We can, however, also think about composition of the objective function within the optimization problem defining a declarative node.\n"
   ]
  },
  {
   "cell_type": "markdown",
   "metadata": {},
   "source": [
    "## Composed Objectives within Declarative Nodes\n",
    "\n",
    "Consider the following parametrized optimization problem\n",
    "\n",
    "$$\n",
    "\\begin{align}\n",
    "y(x) &= \\text{argmin}_{u \\in \\mathbb{R}} h(f(x, u), g(x, u))\n",
    "\\end{align}\n",
    "$$\n",
    "\n",
    "for $x \\in \\mathbb{R}$. From Proposition 4.3 of the [\"Deep Declarative Networks: A New Hope\"](https://arxiv.org/abs/1909.04866) paper we have\n",
    "\n",
    "$$\n",
    "\\begin{align}\n",
    "\\frac{dy}{dx} &= -\\left(\\frac{\\partial^2 h(f(x, y), g(x, y))}{\\partial y^2}\\right)^{-1} \\frac{\\partial^2 h(f(x, y), g(x, y))}{\\partial x \\partial y}\n",
    "\\end{align}\n",
    "$$\n",
    "\n",
    "when the various partial derivatives exist. Expanding the derivatives we have\n",
    "\n",
    "$$\n",
    "\\begin{align}\n",
    "\\frac{\\partial h(f(x, y), g(x, y))}{\\partial y}\n",
    "&= \\frac{\\partial h}{\\partial f} \\frac{\\partial f}{\\partial y} + \\frac{\\partial h}{\\partial g} \\frac{\\partial g}{\\partial y}\n",
    "\\\\\n",
    "\\frac{\\partial^2 h(f(x, y), g(x, y))}{\\partial y^2}\n",
    "&= \\frac{\\partial^2 h}{\\partial y \\partial f} \\frac{\\partial f}{\\partial y} +\n",
    "\\frac{\\partial h}{\\partial f} \\frac{\\partial^2 f}{\\partial y^2} +\n",
    "\\frac{\\partial^2 h}{\\partial y \\partial g} \\frac{\\partial g}{\\partial y} +\n",
    "\\frac{\\partial h}{\\partial g} \\frac{\\partial^2 g}{\\partial y^2}\n",
    "\\\\\n",
    "&= \\begin{bmatrix}\n",
    "\\frac{\\partial^2 h}{\\partial y \\partial f} \\\\ \n",
    "\\frac{\\partial^2 f}{\\partial y^2} \\\\ \n",
    "\\frac{\\partial^2 h}{\\partial y \\partial g} \\\\\n",
    "\\frac{\\partial^2 g}{\\partial y^2}\n",
    "\\end{bmatrix}^T\n",
    "\\begin{bmatrix}\n",
    "\\frac{\\partial f}{\\partial y} \\\\\n",
    "\\frac{\\partial h}{\\partial f} \\\\\n",
    "\\frac{\\partial g}{\\partial y} \\\\\n",
    "\\frac{\\partial h}{\\partial g}\n",
    "\\end{bmatrix}\n",
    "\\\\\n",
    "\\frac{\\partial^2 h(f(x, y), g(x, y))}{\\partial x \\partial y}\n",
    "&= \\begin{bmatrix}\n",
    "\\frac{\\partial^2 h}{\\partial x \\partial f} \\\\ \n",
    "\\frac{\\partial^2 f}{\\partial x \\partial y} \\\\ \n",
    "\\frac{\\partial^2 h}{\\partial x \\partial g} \\\\\n",
    "\\frac{\\partial^2 g}{\\partial x \\partial y}\n",
    "\\end{bmatrix}^T\n",
    "\\begin{bmatrix}\n",
    "\\frac{\\partial f}{\\partial y} \\\\\n",
    "\\frac{\\partial h}{\\partial f} \\\\\n",
    "\\frac{\\partial g}{\\partial y} \\\\\n",
    "\\frac{\\partial h}{\\partial g}\n",
    "\\end{bmatrix}\n",
    "\\end{align}\n",
    "$$\n",
    "\n",
    "As a special case, when $f: (x, u) \\mapsto x$ and $g: (x, u) \\mapsto u$ we have\n",
    "\n",
    "$$\n",
    "\\begin{align}\n",
    "\\frac{\\partial^2 h(f(x, y), g(x, y))}{\\partial y^2}\n",
    "&= \\begin{bmatrix}\n",
    "\\frac{\\partial^2 h}{\\partial y \\partial f} \\\\ \n",
    "0 \\\\ \n",
    "\\frac{\\partial^2 h}{\\partial y \\partial g} \\\\\n",
    "0\n",
    "\\end{bmatrix}^T\n",
    "\\begin{bmatrix}\n",
    "0 \\\\\n",
    "\\frac{\\partial h}{\\partial f} \\\\\n",
    "1 \\\\\n",
    "\\frac{\\partial h}{\\partial g}\n",
    "\\end{bmatrix}\n",
    "&= \\frac{\\partial^2 h}{\\partial y^2}\n",
    "\\\\\n",
    "\\frac{\\partial^2 h(f(x, y), g(x, y))}{\\partial x \\partial y}\n",
    "&= \\begin{bmatrix}\n",
    "\\frac{\\partial^2 h}{\\partial x \\partial f} \\\\ \n",
    "0 \\\\ \n",
    "\\frac{\\partial^2 h}{\\partial x \\partial g} \\\\\n",
    "0\n",
    "\\end{bmatrix}^T\n",
    "\\begin{bmatrix}\n",
    "0 \\\\\n",
    "\\frac{\\partial h}{\\partial f} \\\\\n",
    "1 \\\\\n",
    "\\frac{\\partial h}{\\partial g}\n",
    "\\end{bmatrix}\n",
    "&= \\frac{\\partial^2 h}{\\partial x \\partial y}\n",
    "\\end{align}\n",
    "$$\n",
    "\n",
    "which gives the standard result, as it should."
   ]
  },
  {
   "cell_type": "code",
   "execution_count": null,
   "metadata": {},
   "outputs": [],
   "source": []
  }
 ],
 "metadata": {
  "kernelspec": {
   "display_name": "Python 3",
   "language": "python",
   "name": "python3"
  },
  "language_info": {
   "codemirror_mode": {
    "name": "ipython",
    "version": 3
   },
   "file_extension": ".py",
   "mimetype": "text/x-python",
   "name": "python",
   "nbconvert_exporter": "python",
   "pygments_lexer": "ipython3",
   "version": "3.7.4"
  }
 },
 "nbformat": 4,
 "nbformat_minor": 2
}
